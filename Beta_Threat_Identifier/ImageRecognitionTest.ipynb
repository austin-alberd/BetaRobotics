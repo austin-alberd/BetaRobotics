{
 "cells": [
  {
   "cell_type": "markdown",
   "id": "2b076f63-2426-49c6-ae51-d1973b66e95b",
   "metadata": {},
   "source": []
  },
  {
   "cell_type": "code",
   "execution_count": 14,
   "id": "ca8fd791-18d0-4314-94d0-21cf65b24df7",
   "metadata": {},
   "outputs": [],
   "source": [
    "import numpy as np\n",
    "import matplotlib.pyplot as plt\n",
    "import cv2 as cv\n",
    "from tensorflow.keras import datasets, layers, models\n"
   ]
  },
  {
   "cell_type": "code",
   "execution_count": 1,
   "id": "6d3287f7-29db-450e-9797-fe726e399808",
   "metadata": {
    "tags": []
   },
   "outputs": [
    {
     "ename": "NameError",
     "evalue": "name 'datasets' is not defined",
     "output_type": "error",
     "traceback": [
      "\u001b[1;31m---------------------------------------------------------------------------\u001b[0m",
      "\u001b[1;31mNameError\u001b[0m                                 Traceback (most recent call last)",
      "\u001b[1;32m~\\AppData\\Local\\Temp\\ipykernel_13716\\50911681.py\u001b[0m in \u001b[0;36m<module>\u001b[1;34m\u001b[0m\n\u001b[1;32m----> 1\u001b[1;33m \u001b[1;33m(\u001b[0m\u001b[0mtraining_images\u001b[0m\u001b[1;33m,\u001b[0m \u001b[0mtraining_labels\u001b[0m\u001b[1;33m)\u001b[0m\u001b[1;33m,\u001b[0m \u001b[1;33m(\u001b[0m\u001b[0mtesting_images\u001b[0m\u001b[1;33m,\u001b[0m \u001b[0mtesting_labels\u001b[0m\u001b[1;33m)\u001b[0m\u001b[1;33m=\u001b[0m \u001b[0mdatasets\u001b[0m\u001b[1;33m.\u001b[0m\u001b[0mcifar10\u001b[0m\u001b[1;33m.\u001b[0m\u001b[0mload_data\u001b[0m\u001b[1;33m(\u001b[0m\u001b[1;33m)\u001b[0m\u001b[1;33m\u001b[0m\u001b[1;33m\u001b[0m\u001b[0m\n\u001b[0m\u001b[0;32m      2\u001b[0m \u001b[0mtraining_images\u001b[0m\u001b[1;33m,\u001b[0m \u001b[0mtesting_images\u001b[0m \u001b[1;33m=\u001b[0m \u001b[0mtraining_images\u001b[0m \u001b[1;33m/\u001b[0m\u001b[1;36m255\u001b[0m\u001b[1;33m,\u001b[0m \u001b[0mtesting_images\u001b[0m\u001b[1;33m/\u001b[0m\u001b[1;36m255\u001b[0m\u001b[1;33m\u001b[0m\u001b[1;33m\u001b[0m\u001b[0m\n\u001b[0;32m      3\u001b[0m \u001b[1;33m\u001b[0m\u001b[0m\n\u001b[0;32m      4\u001b[0m \u001b[0mclass_names\u001b[0m \u001b[1;33m=\u001b[0m \u001b[1;33m[\u001b[0m\u001b[1;34m'Plane'\u001b[0m\u001b[1;33m,\u001b[0m\u001b[1;34m'Car'\u001b[0m\u001b[1;33m,\u001b[0m\u001b[1;34m'Bird'\u001b[0m\u001b[1;33m,\u001b[0m\u001b[1;34m'Cat'\u001b[0m\u001b[1;33m,\u001b[0m\u001b[1;34m'Deer'\u001b[0m\u001b[1;33m,\u001b[0m\u001b[1;34m'Dog'\u001b[0m\u001b[1;33m,\u001b[0m\u001b[1;34m'Frog'\u001b[0m\u001b[1;33m,\u001b[0m\u001b[1;34m'Horse'\u001b[0m\u001b[1;33m,\u001b[0m\u001b[1;34m'Ship'\u001b[0m\u001b[1;33m,\u001b[0m\u001b[1;34m'Truck'\u001b[0m\u001b[1;33m]\u001b[0m\u001b[1;33m\u001b[0m\u001b[1;33m\u001b[0m\u001b[0m\n\u001b[0;32m      5\u001b[0m \u001b[1;33m\u001b[0m\u001b[0m\n",
      "\u001b[1;31mNameError\u001b[0m: name 'datasets' is not defined"
     ]
    }
   ],
   "source": [
    "(training_images, training_labels), (testing_images, testing_labels)= datasets.cifar10.load_data()\n",
    "training_images, testing_images = training_images /255, testing_images/255\n",
    "\n",
    "class_names = ['Plane','Car','Bird','Cat','Deer','Dog','Frog','Horse','Ship','Truck']\n",
    "\n",
    "for i in range(16):\n",
    "    plt.subplot(4,4,i+1)\n",
    "    plt.xticks([])\n",
    "    plt.yticks([])\n",
    "    plt.imshow(training_images[i], cmap=plt.cm.binary)\n",
    "    plt.xlabel(class_names[training_labels[i][0]])\n",
    "    \n",
    "#plt.show()\n",
    "\n",
    "#training_images= training_images[:20000]\n",
    "#trainging_labels= training_labels[:20000]\n",
    "#testing_images= testing_images[:4000]\n",
    "#testing_labels= testing[:4000]\n",
    "\n",
    "model= models.Sequential()\n",
    "model.add(layers.Conv2D(32, (3,3), activation='relu', input_shape=(32,32,3)))\n",
    "model.add(layers.MaxPooling2D((2,2)))\n",
    "model.add(layers.Conv2D(64, (3,3), activation='relu'))\n",
    "model.add(layers.MaxPooling2D((2,2)))\n",
    "model.add(layers.Conv2D(64, (3,3), activation='relu'))\n",
    "model.add(layers.Flatten())\n",
    "model.add(layers.Dense(64, activation='relu'))\n",
    "model.add(layers.Dense(10, activation='softmax'))\n",
    "\n",
    "model.compile(optimizer='adam',loss='sparse_categorical_crossentropy', metrics=['accuracy'])\n",
    "\n",
    "model.fit(training_images, training_labels, epochs=10, validation_data=(testing_images, testing_labels))\n",
    "\n",
    "loss, accuracy = model.evaluate(testing_images, testing_labels)\n",
    "model.save('image_classifier.model')\n"
   ]
  },
  {
   "cell_type": "code",
   "execution_count": 31,
   "id": "7796c5e5-0504-44f2-a3b6-c5fb0c280b5f",
   "metadata": {},
   "outputs": [
    {
     "name": "stdout",
     "output_type": "stream",
     "text": [
      "1/1 [==============================] - 0s 25ms/step\n",
      "prediction\n",
      "Bird\n"
     ]
    },
    {
     "data": {
      "image/png": "[encoded data removed]",
      "text/plain": [
       "<Figure size 640x480 with 1 Axes>"
      ]
     },
     "metadata": {},
     "output_type": "display_data"
    }
   ],
   "source": [
    "nModel =  models.load_model('image_classifier.model')\n",
    "img = cv.imread('bird2.jpg')\n",
    "img = cv.cvtColor(img, cv.COLOR_BGR2RGB)\n",
    "\n",
    "plt.imshow(img, cmap=plt.cm.binary)\n",
    "\n",
    "prediction = model.predict(np.array([img])/255)\n",
    "index = np.argmax(prediction)\n",
    "print('prediction')\n",
    "print(class_names[index])"
   ]
  },
  {
   "cell_type": "code",
   "execution_count": 2,
   "id": "2cdeef95-65c3-441c-8b7f-a3c3faa837ae",
   "metadata": {},
   "outputs": [
    {
     "name": "stdout",
     "output_type": "stream",
     "text": [
      "hello world\n"
     ]
    }
   ],
   "source": []
  }
 ],
 "metadata": {
  "kernelspec": {
   "display_name": "Python 3 (ipykernel)",
   "language": "python",
   "name": "python3"
  },
  "language_info": {
   "codemirror_mode": {
    "name": "ipython",
    "version": 3
   },
   "file_extension": ".py",
   "mimetype": "text/x-python",
   "name": "python",
   "nbconvert_exporter": "python",
   "pygments_lexer": "ipython3",
   "version": "3.9.13"
  }
 },
 "nbformat": 4,
 "nbformat_minor": 5
}
